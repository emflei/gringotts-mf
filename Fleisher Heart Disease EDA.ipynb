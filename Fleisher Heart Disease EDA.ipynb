{
 "cells": [
  {
   "cell_type": "markdown",
   "metadata": {},
   "source": [
    "# CoderGirl Data Science Mini Project Part 1 \n",
    "### *Heart Disease Exploratory Data Analysis*"
   ]
  },
  {
   "cell_type": "markdown",
   "metadata": {},
   "source": [
    "Monica Feisher\n",
    "\n",
    "This project has been prepared as part of the LaunchCode CoderGirl Data Science course (January 2020) using data from the [UCI Heart Disease Dataset](https://www.kaggle.com/ronitf/heart-disease-uci). "
   ]
  },
  {
   "cell_type": "markdown",
   "metadata": {},
   "source": [
    "## Import libraries and load data"
   ]
  },
  {
   "cell_type": "code",
   "execution_count": 1,
   "metadata": {},
   "outputs": [],
   "source": [
    "import pandas as pd\n",
    "import matplotlib.pyplot as plt\n",
    "import seaborn as sns\n",
    "from sklearn import preprocessing"
   ]
  },
  {
   "cell_type": "code",
   "execution_count": 2,
   "metadata": {},
   "outputs": [],
   "source": [
    "#Load the data\n",
    "df = pd.read_csv('heart.csv')"
   ]
  },
  {
   "cell_type": "markdown",
   "metadata": {},
   "source": [
    "## Explore the features of the dataset"
   ]
  },
  {
   "cell_type": "code",
   "execution_count": 3,
   "metadata": {},
   "outputs": [
    {
     "data": {
      "text/plain": [
       "(303, 14)"
      ]
     },
     "execution_count": 3,
     "metadata": {},
     "output_type": "execute_result"
    }
   ],
   "source": [
    "df.shape"
   ]
  },
  {
   "cell_type": "code",
   "execution_count": 4,
   "metadata": {},
   "outputs": [
    {
     "data": {
      "text/html": [
       "<div>\n",
       "<style scoped>\n",
       "    .dataframe tbody tr th:only-of-type {\n",
       "        vertical-align: middle;\n",
       "    }\n",
       "\n",
       "    .dataframe tbody tr th {\n",
       "        vertical-align: top;\n",
       "    }\n",
       "\n",
       "    .dataframe thead th {\n",
       "        text-align: right;\n",
       "    }\n",
       "</style>\n",
       "<table border=\"1\" class=\"dataframe\">\n",
       "  <thead>\n",
       "    <tr style=\"text-align: right;\">\n",
       "      <th></th>\n",
       "      <th>age</th>\n",
       "      <th>sex</th>\n",
       "      <th>cp</th>\n",
       "      <th>trestbps</th>\n",
       "      <th>chol</th>\n",
       "      <th>fbs</th>\n",
       "      <th>restecg</th>\n",
       "      <th>thalach</th>\n",
       "      <th>exang</th>\n",
       "      <th>oldpeak</th>\n",
       "      <th>slope</th>\n",
       "      <th>ca</th>\n",
       "      <th>thal</th>\n",
       "      <th>target</th>\n",
       "    </tr>\n",
       "  </thead>\n",
       "  <tbody>\n",
       "    <tr>\n",
       "      <td>0</td>\n",
       "      <td>63</td>\n",
       "      <td>1</td>\n",
       "      <td>3</td>\n",
       "      <td>145</td>\n",
       "      <td>233</td>\n",
       "      <td>1</td>\n",
       "      <td>0</td>\n",
       "      <td>150</td>\n",
       "      <td>0</td>\n",
       "      <td>2.3</td>\n",
       "      <td>0</td>\n",
       "      <td>0</td>\n",
       "      <td>1</td>\n",
       "      <td>1</td>\n",
       "    </tr>\n",
       "    <tr>\n",
       "      <td>1</td>\n",
       "      <td>37</td>\n",
       "      <td>1</td>\n",
       "      <td>2</td>\n",
       "      <td>130</td>\n",
       "      <td>250</td>\n",
       "      <td>0</td>\n",
       "      <td>1</td>\n",
       "      <td>187</td>\n",
       "      <td>0</td>\n",
       "      <td>3.5</td>\n",
       "      <td>0</td>\n",
       "      <td>0</td>\n",
       "      <td>2</td>\n",
       "      <td>1</td>\n",
       "    </tr>\n",
       "    <tr>\n",
       "      <td>2</td>\n",
       "      <td>41</td>\n",
       "      <td>0</td>\n",
       "      <td>1</td>\n",
       "      <td>130</td>\n",
       "      <td>204</td>\n",
       "      <td>0</td>\n",
       "      <td>0</td>\n",
       "      <td>172</td>\n",
       "      <td>0</td>\n",
       "      <td>1.4</td>\n",
       "      <td>2</td>\n",
       "      <td>0</td>\n",
       "      <td>2</td>\n",
       "      <td>1</td>\n",
       "    </tr>\n",
       "    <tr>\n",
       "      <td>3</td>\n",
       "      <td>56</td>\n",
       "      <td>1</td>\n",
       "      <td>1</td>\n",
       "      <td>120</td>\n",
       "      <td>236</td>\n",
       "      <td>0</td>\n",
       "      <td>1</td>\n",
       "      <td>178</td>\n",
       "      <td>0</td>\n",
       "      <td>0.8</td>\n",
       "      <td>2</td>\n",
       "      <td>0</td>\n",
       "      <td>2</td>\n",
       "      <td>1</td>\n",
       "    </tr>\n",
       "    <tr>\n",
       "      <td>4</td>\n",
       "      <td>57</td>\n",
       "      <td>0</td>\n",
       "      <td>0</td>\n",
       "      <td>120</td>\n",
       "      <td>354</td>\n",
       "      <td>0</td>\n",
       "      <td>1</td>\n",
       "      <td>163</td>\n",
       "      <td>1</td>\n",
       "      <td>0.6</td>\n",
       "      <td>2</td>\n",
       "      <td>0</td>\n",
       "      <td>2</td>\n",
       "      <td>1</td>\n",
       "    </tr>\n",
       "  </tbody>\n",
       "</table>\n",
       "</div>"
      ],
      "text/plain": [
       "   age  sex  cp  trestbps  chol  fbs  restecg  thalach  exang  oldpeak  slope  \\\n",
       "0   63    1   3       145   233    1        0      150      0      2.3      0   \n",
       "1   37    1   2       130   250    0        1      187      0      3.5      0   \n",
       "2   41    0   1       130   204    0        0      172      0      1.4      2   \n",
       "3   56    1   1       120   236    0        1      178      0      0.8      2   \n",
       "4   57    0   0       120   354    0        1      163      1      0.6      2   \n",
       "\n",
       "   ca  thal  target  \n",
       "0   0     1       1  \n",
       "1   0     2       1  \n",
       "2   0     2       1  \n",
       "3   0     2       1  \n",
       "4   0     2       1  "
      ]
     },
     "execution_count": 4,
     "metadata": {},
     "output_type": "execute_result"
    }
   ],
   "source": [
    "df.head(5)"
   ]
  },
  {
   "cell_type": "markdown",
   "metadata": {},
   "source": [
    "Let's change the column names to make the attributes easier to understand."
   ]
  },
  {
   "cell_type": "code",
   "execution_count": 5,
   "metadata": {},
   "outputs": [],
   "source": [
    "#Modify column names\n",
    "df.columns = ['age', 'sex', 'chest_pain_type', 'resting_blood_pressure', 'cholesterol', 'fasting_blood_sugar', 'rest_ecg', 'max_heart_rate_achieved',\n",
    "       'exercise_induced_angina', 'st_depression', 'st_slope', 'num_major_vessels', 'thalassemia', 'target']"
   ]
  },
  {
   "cell_type": "code",
   "execution_count": 6,
   "metadata": {},
   "outputs": [
    {
     "data": {
      "text/html": [
       "<div>\n",
       "<style scoped>\n",
       "    .dataframe tbody tr th:only-of-type {\n",
       "        vertical-align: middle;\n",
       "    }\n",
       "\n",
       "    .dataframe tbody tr th {\n",
       "        vertical-align: top;\n",
       "    }\n",
       "\n",
       "    .dataframe thead th {\n",
       "        text-align: right;\n",
       "    }\n",
       "</style>\n",
       "<table border=\"1\" class=\"dataframe\">\n",
       "  <thead>\n",
       "    <tr style=\"text-align: right;\">\n",
       "      <th></th>\n",
       "      <th>age</th>\n",
       "      <th>sex</th>\n",
       "      <th>chest_pain_type</th>\n",
       "      <th>resting_blood_pressure</th>\n",
       "      <th>cholesterol</th>\n",
       "      <th>fasting_blood_sugar</th>\n",
       "      <th>rest_ecg</th>\n",
       "      <th>max_heart_rate_achieved</th>\n",
       "      <th>exercise_induced_angina</th>\n",
       "      <th>st_depression</th>\n",
       "      <th>st_slope</th>\n",
       "      <th>num_major_vessels</th>\n",
       "      <th>thalassemia</th>\n",
       "      <th>target</th>\n",
       "    </tr>\n",
       "  </thead>\n",
       "  <tbody>\n",
       "    <tr>\n",
       "      <td>count</td>\n",
       "      <td>303.000000</td>\n",
       "      <td>303.000000</td>\n",
       "      <td>303.000000</td>\n",
       "      <td>303.000000</td>\n",
       "      <td>303.000000</td>\n",
       "      <td>303.000000</td>\n",
       "      <td>303.000000</td>\n",
       "      <td>303.000000</td>\n",
       "      <td>303.000000</td>\n",
       "      <td>303.000000</td>\n",
       "      <td>303.000000</td>\n",
       "      <td>303.000000</td>\n",
       "      <td>303.000000</td>\n",
       "      <td>303.000000</td>\n",
       "    </tr>\n",
       "    <tr>\n",
       "      <td>mean</td>\n",
       "      <td>54.366337</td>\n",
       "      <td>0.683168</td>\n",
       "      <td>0.966997</td>\n",
       "      <td>131.623762</td>\n",
       "      <td>246.264026</td>\n",
       "      <td>0.148515</td>\n",
       "      <td>0.528053</td>\n",
       "      <td>149.646865</td>\n",
       "      <td>0.326733</td>\n",
       "      <td>1.039604</td>\n",
       "      <td>1.399340</td>\n",
       "      <td>0.729373</td>\n",
       "      <td>2.313531</td>\n",
       "      <td>0.544554</td>\n",
       "    </tr>\n",
       "    <tr>\n",
       "      <td>std</td>\n",
       "      <td>9.082101</td>\n",
       "      <td>0.466011</td>\n",
       "      <td>1.032052</td>\n",
       "      <td>17.538143</td>\n",
       "      <td>51.830751</td>\n",
       "      <td>0.356198</td>\n",
       "      <td>0.525860</td>\n",
       "      <td>22.905161</td>\n",
       "      <td>0.469794</td>\n",
       "      <td>1.161075</td>\n",
       "      <td>0.616226</td>\n",
       "      <td>1.022606</td>\n",
       "      <td>0.612277</td>\n",
       "      <td>0.498835</td>\n",
       "    </tr>\n",
       "    <tr>\n",
       "      <td>min</td>\n",
       "      <td>29.000000</td>\n",
       "      <td>0.000000</td>\n",
       "      <td>0.000000</td>\n",
       "      <td>94.000000</td>\n",
       "      <td>126.000000</td>\n",
       "      <td>0.000000</td>\n",
       "      <td>0.000000</td>\n",
       "      <td>71.000000</td>\n",
       "      <td>0.000000</td>\n",
       "      <td>0.000000</td>\n",
       "      <td>0.000000</td>\n",
       "      <td>0.000000</td>\n",
       "      <td>0.000000</td>\n",
       "      <td>0.000000</td>\n",
       "    </tr>\n",
       "    <tr>\n",
       "      <td>25%</td>\n",
       "      <td>47.500000</td>\n",
       "      <td>0.000000</td>\n",
       "      <td>0.000000</td>\n",
       "      <td>120.000000</td>\n",
       "      <td>211.000000</td>\n",
       "      <td>0.000000</td>\n",
       "      <td>0.000000</td>\n",
       "      <td>133.500000</td>\n",
       "      <td>0.000000</td>\n",
       "      <td>0.000000</td>\n",
       "      <td>1.000000</td>\n",
       "      <td>0.000000</td>\n",
       "      <td>2.000000</td>\n",
       "      <td>0.000000</td>\n",
       "    </tr>\n",
       "    <tr>\n",
       "      <td>50%</td>\n",
       "      <td>55.000000</td>\n",
       "      <td>1.000000</td>\n",
       "      <td>1.000000</td>\n",
       "      <td>130.000000</td>\n",
       "      <td>240.000000</td>\n",
       "      <td>0.000000</td>\n",
       "      <td>1.000000</td>\n",
       "      <td>153.000000</td>\n",
       "      <td>0.000000</td>\n",
       "      <td>0.800000</td>\n",
       "      <td>1.000000</td>\n",
       "      <td>0.000000</td>\n",
       "      <td>2.000000</td>\n",
       "      <td>1.000000</td>\n",
       "    </tr>\n",
       "    <tr>\n",
       "      <td>75%</td>\n",
       "      <td>61.000000</td>\n",
       "      <td>1.000000</td>\n",
       "      <td>2.000000</td>\n",
       "      <td>140.000000</td>\n",
       "      <td>274.500000</td>\n",
       "      <td>0.000000</td>\n",
       "      <td>1.000000</td>\n",
       "      <td>166.000000</td>\n",
       "      <td>1.000000</td>\n",
       "      <td>1.600000</td>\n",
       "      <td>2.000000</td>\n",
       "      <td>1.000000</td>\n",
       "      <td>3.000000</td>\n",
       "      <td>1.000000</td>\n",
       "    </tr>\n",
       "    <tr>\n",
       "      <td>max</td>\n",
       "      <td>77.000000</td>\n",
       "      <td>1.000000</td>\n",
       "      <td>3.000000</td>\n",
       "      <td>200.000000</td>\n",
       "      <td>564.000000</td>\n",
       "      <td>1.000000</td>\n",
       "      <td>2.000000</td>\n",
       "      <td>202.000000</td>\n",
       "      <td>1.000000</td>\n",
       "      <td>6.200000</td>\n",
       "      <td>2.000000</td>\n",
       "      <td>4.000000</td>\n",
       "      <td>3.000000</td>\n",
       "      <td>1.000000</td>\n",
       "    </tr>\n",
       "  </tbody>\n",
       "</table>\n",
       "</div>"
      ],
      "text/plain": [
       "              age         sex  chest_pain_type  resting_blood_pressure  \\\n",
       "count  303.000000  303.000000       303.000000              303.000000   \n",
       "mean    54.366337    0.683168         0.966997              131.623762   \n",
       "std      9.082101    0.466011         1.032052               17.538143   \n",
       "min     29.000000    0.000000         0.000000               94.000000   \n",
       "25%     47.500000    0.000000         0.000000              120.000000   \n",
       "50%     55.000000    1.000000         1.000000              130.000000   \n",
       "75%     61.000000    1.000000         2.000000              140.000000   \n",
       "max     77.000000    1.000000         3.000000              200.000000   \n",
       "\n",
       "       cholesterol  fasting_blood_sugar    rest_ecg  max_heart_rate_achieved  \\\n",
       "count   303.000000           303.000000  303.000000               303.000000   \n",
       "mean    246.264026             0.148515    0.528053               149.646865   \n",
       "std      51.830751             0.356198    0.525860                22.905161   \n",
       "min     126.000000             0.000000    0.000000                71.000000   \n",
       "25%     211.000000             0.000000    0.000000               133.500000   \n",
       "50%     240.000000             0.000000    1.000000               153.000000   \n",
       "75%     274.500000             0.000000    1.000000               166.000000   \n",
       "max     564.000000             1.000000    2.000000               202.000000   \n",
       "\n",
       "       exercise_induced_angina  st_depression    st_slope  num_major_vessels  \\\n",
       "count               303.000000     303.000000  303.000000         303.000000   \n",
       "mean                  0.326733       1.039604    1.399340           0.729373   \n",
       "std                   0.469794       1.161075    0.616226           1.022606   \n",
       "min                   0.000000       0.000000    0.000000           0.000000   \n",
       "25%                   0.000000       0.000000    1.000000           0.000000   \n",
       "50%                   0.000000       0.800000    1.000000           0.000000   \n",
       "75%                   1.000000       1.600000    2.000000           1.000000   \n",
       "max                   1.000000       6.200000    2.000000           4.000000   \n",
       "\n",
       "       thalassemia      target  \n",
       "count   303.000000  303.000000  \n",
       "mean      2.313531    0.544554  \n",
       "std       0.612277    0.498835  \n",
       "min       0.000000    0.000000  \n",
       "25%       2.000000    0.000000  \n",
       "50%       2.000000    1.000000  \n",
       "75%       3.000000    1.000000  \n",
       "max       3.000000    1.000000  "
      ]
     },
     "execution_count": 6,
     "metadata": {},
     "output_type": "execute_result"
    }
   ],
   "source": [
    "#Explore the quantitative features of each variable\n",
    "df.describe()"
   ]
  },
  {
   "cell_type": "code",
   "execution_count": 7,
   "metadata": {},
   "outputs": [
    {
     "data": {
      "text/plain": [
       "1    207\n",
       "0     96\n",
       "Name: sex, dtype: int64"
      ]
     },
     "execution_count": 7,
     "metadata": {},
     "output_type": "execute_result"
    }
   ],
   "source": [
    "#How many cases are male (1) and female (0)?\n",
    "df['sex'].value_counts()"
   ]
  },
  {
   "cell_type": "code",
   "execution_count": 8,
   "metadata": {},
   "outputs": [
    {
     "data": {
      "text/plain": [
       "1    165\n",
       "0    138\n",
       "Name: target, dtype: int64"
      ]
     },
     "execution_count": 8,
     "metadata": {},
     "output_type": "execute_result"
    }
   ],
   "source": [
    "#How many heart disease cases do we have in this set?\n",
    "df['target'].value_counts()"
   ]
  },
  {
   "cell_type": "code",
   "execution_count": 11,
   "metadata": {},
   "outputs": [
    {
     "data": {
      "text/plain": [
       "<matplotlib.axes._subplots.AxesSubplot at 0x1a1f4c5a50>"
      ]
     },
     "execution_count": 11,
     "metadata": {},
     "output_type": "execute_result"
    },
    {
     "data": {
      "image/png": "[encoded data removed]",
      "text/plain": [
       "<Figure size 432x288 with 1 Axes>"
      ]
     },
     "metadata": {
      "needs_background": "light"
     },
     "output_type": "display_data"
    }
   ],
   "source": [
    "sns.distplot(df['age'])"
   ]
  },
  {
   "cell_type": "code",
   "execution_count": 12,
   "metadata": {},
   "outputs": [
    {
     "data": {
      "image/png": "[encoded data removed]",
      "text/plain": [
       "<Figure size 720x576 with 1 Axes>"
      ]
     },
     "metadata": {
      "needs_background": "light"
     },
     "output_type": "display_data"
    }
   ],
   "source": [
    "plt.figure(figsize = (10, 8))\n",
    "sns.kdeplot(df.loc[df['target'] == 0, 'age'], label = 'Heart Disease')\n",
    "sns.kdeplot(df.loc[df['target'] == 1, 'age'], label = 'No Heart Disease')\n",
    "\n",
    "# Labeling of plot\n",
    "plt.xlabel('Age (years)')\n",
    "plt.ylabel('Density')\n",
    "plt.title('Distribution of Ages')\n",
    "\n",
    "plt.show()"
   ]
  },
  {
   "cell_type": "code",
   "execution_count": 41,
   "metadata": {},
   "outputs": [
    {
     "data": {
      "text/html": [
       "<div>\n",
       "<style scoped>\n",
       "    .dataframe tbody tr th:only-of-type {\n",
       "        vertical-align: middle;\n",
       "    }\n",
       "\n",
       "    .dataframe tbody tr th {\n",
       "        vertical-align: top;\n",
       "    }\n",
       "\n",
       "    .dataframe thead th {\n",
       "        text-align: right;\n",
       "    }\n",
       "</style>\n",
       "<table border=\"1\" class=\"dataframe\">\n",
       "  <thead>\n",
       "    <tr style=\"text-align: right;\">\n",
       "      <th></th>\n",
       "      <th>age</th>\n",
       "      <th>sex</th>\n",
       "      <th>chest_pain_type</th>\n",
       "      <th>resting_blood_pressure</th>\n",
       "      <th>cholesterol</th>\n",
       "      <th>fasting_blood_sugar</th>\n",
       "      <th>rest_ecg</th>\n",
       "      <th>max_heart_rate_achieved</th>\n",
       "      <th>exercise_induced_angina</th>\n",
       "      <th>st_depression</th>\n",
       "      <th>st_slope</th>\n",
       "      <th>num_major_vessels</th>\n",
       "      <th>thalassemia</th>\n",
       "      <th>target</th>\n",
       "    </tr>\n",
       "  </thead>\n",
       "  <tbody>\n",
       "    <tr>\n",
       "      <td>age</td>\n",
       "      <td>1.000000</td>\n",
       "      <td>-0.092328</td>\n",
       "      <td>-0.064049</td>\n",
       "      <td>0.293137</td>\n",
       "      <td>0.193253</td>\n",
       "      <td>0.124255</td>\n",
       "      <td>-0.112185</td>\n",
       "      <td>-0.391784</td>\n",
       "      <td>0.100514</td>\n",
       "      <td>0.205393</td>\n",
       "      <td>-0.159382</td>\n",
       "      <td>0.311446</td>\n",
       "      <td>0.063071</td>\n",
       "      <td>-0.222864</td>\n",
       "    </tr>\n",
       "    <tr>\n",
       "      <td>sex</td>\n",
       "      <td>-0.092328</td>\n",
       "      <td>1.000000</td>\n",
       "      <td>-0.045082</td>\n",
       "      <td>-0.061159</td>\n",
       "      <td>-0.177535</td>\n",
       "      <td>0.045153</td>\n",
       "      <td>-0.067750</td>\n",
       "      <td>-0.037397</td>\n",
       "      <td>0.142488</td>\n",
       "      <td>0.101217</td>\n",
       "      <td>-0.034873</td>\n",
       "      <td>0.111871</td>\n",
       "      <td>0.219555</td>\n",
       "      <td>-0.278841</td>\n",
       "    </tr>\n",
       "    <tr>\n",
       "      <td>chest_pain_type</td>\n",
       "      <td>-0.064049</td>\n",
       "      <td>-0.045082</td>\n",
       "      <td>1.000000</td>\n",
       "      <td>0.047848</td>\n",
       "      <td>-0.100540</td>\n",
       "      <td>0.096475</td>\n",
       "      <td>0.047987</td>\n",
       "      <td>0.287891</td>\n",
       "      <td>-0.394647</td>\n",
       "      <td>-0.148931</td>\n",
       "      <td>0.117537</td>\n",
       "      <td>-0.196135</td>\n",
       "      <td>-0.166632</td>\n",
       "      <td>0.428426</td>\n",
       "    </tr>\n",
       "    <tr>\n",
       "      <td>resting_blood_pressure</td>\n",
       "      <td>0.293137</td>\n",
       "      <td>-0.061159</td>\n",
       "      <td>0.047848</td>\n",
       "      <td>1.000000</td>\n",
       "      <td>0.154576</td>\n",
       "      <td>0.176376</td>\n",
       "      <td>-0.117149</td>\n",
       "      <td>-0.055411</td>\n",
       "      <td>0.065032</td>\n",
       "      <td>0.196546</td>\n",
       "      <td>-0.126794</td>\n",
       "      <td>0.095791</td>\n",
       "      <td>0.065576</td>\n",
       "      <td>-0.146603</td>\n",
       "    </tr>\n",
       "    <tr>\n",
       "      <td>cholesterol</td>\n",
       "      <td>0.193253</td>\n",
       "      <td>-0.177535</td>\n",
       "      <td>-0.100540</td>\n",
       "      <td>0.154576</td>\n",
       "      <td>1.000000</td>\n",
       "      <td>0.021125</td>\n",
       "      <td>-0.135842</td>\n",
       "      <td>-0.017993</td>\n",
       "      <td>0.083521</td>\n",
       "      <td>0.043070</td>\n",
       "      <td>0.014189</td>\n",
       "      <td>0.108281</td>\n",
       "      <td>0.078979</td>\n",
       "      <td>-0.108109</td>\n",
       "    </tr>\n",
       "    <tr>\n",
       "      <td>fasting_blood_sugar</td>\n",
       "      <td>0.124255</td>\n",
       "      <td>0.045153</td>\n",
       "      <td>0.096475</td>\n",
       "      <td>0.176376</td>\n",
       "      <td>0.021125</td>\n",
       "      <td>1.000000</td>\n",
       "      <td>-0.083522</td>\n",
       "      <td>-0.011565</td>\n",
       "      <td>0.022831</td>\n",
       "      <td>0.005137</td>\n",
       "      <td>-0.060575</td>\n",
       "      <td>0.143268</td>\n",
       "      <td>-0.032006</td>\n",
       "      <td>-0.027174</td>\n",
       "    </tr>\n",
       "    <tr>\n",
       "      <td>rest_ecg</td>\n",
       "      <td>-0.112185</td>\n",
       "      <td>-0.067750</td>\n",
       "      <td>0.047987</td>\n",
       "      <td>-0.117149</td>\n",
       "      <td>-0.135842</td>\n",
       "      <td>-0.083522</td>\n",
       "      <td>1.000000</td>\n",
       "      <td>0.054233</td>\n",
       "      <td>-0.069363</td>\n",
       "      <td>-0.054731</td>\n",
       "      <td>0.090584</td>\n",
       "      <td>-0.083748</td>\n",
       "      <td>-0.005249</td>\n",
       "      <td>0.142079</td>\n",
       "    </tr>\n",
       "    <tr>\n",
       "      <td>max_heart_rate_achieved</td>\n",
       "      <td>-0.391784</td>\n",
       "      <td>-0.037397</td>\n",
       "      <td>0.287891</td>\n",
       "      <td>-0.055411</td>\n",
       "      <td>-0.017993</td>\n",
       "      <td>-0.011565</td>\n",
       "      <td>0.054233</td>\n",
       "      <td>1.000000</td>\n",
       "      <td>-0.392889</td>\n",
       "      <td>-0.350528</td>\n",
       "      <td>0.386655</td>\n",
       "      <td>-0.240663</td>\n",
       "      <td>-0.104800</td>\n",
       "      <td>0.415911</td>\n",
       "    </tr>\n",
       "    <tr>\n",
       "      <td>exercise_induced_angina</td>\n",
       "      <td>0.100514</td>\n",
       "      <td>0.142488</td>\n",
       "      <td>-0.394647</td>\n",
       "      <td>0.065032</td>\n",
       "      <td>0.083521</td>\n",
       "      <td>0.022831</td>\n",
       "      <td>-0.069363</td>\n",
       "      <td>-0.392889</td>\n",
       "      <td>1.000000</td>\n",
       "      <td>0.288378</td>\n",
       "      <td>-0.259897</td>\n",
       "      <td>0.122456</td>\n",
       "      <td>0.208098</td>\n",
       "      <td>-0.438189</td>\n",
       "    </tr>\n",
       "    <tr>\n",
       "      <td>st_depression</td>\n",
       "      <td>0.205393</td>\n",
       "      <td>0.101217</td>\n",
       "      <td>-0.148931</td>\n",
       "      <td>0.196546</td>\n",
       "      <td>0.043070</td>\n",
       "      <td>0.005137</td>\n",
       "      <td>-0.054731</td>\n",
       "      <td>-0.350528</td>\n",
       "      <td>0.288378</td>\n",
       "      <td>1.000000</td>\n",
       "      <td>-0.576384</td>\n",
       "      <td>0.238114</td>\n",
       "      <td>0.207847</td>\n",
       "      <td>-0.432360</td>\n",
       "    </tr>\n",
       "    <tr>\n",
       "      <td>st_slope</td>\n",
       "      <td>-0.159382</td>\n",
       "      <td>-0.034873</td>\n",
       "      <td>0.117537</td>\n",
       "      <td>-0.126794</td>\n",
       "      <td>0.014189</td>\n",
       "      <td>-0.060575</td>\n",
       "      <td>0.090584</td>\n",
       "      <td>0.386655</td>\n",
       "      <td>-0.259897</td>\n",
       "      <td>-0.576384</td>\n",
       "      <td>1.000000</td>\n",
       "      <td>-0.095610</td>\n",
       "      <td>-0.102409</td>\n",
       "      <td>0.345208</td>\n",
       "    </tr>\n",
       "    <tr>\n",
       "      <td>num_major_vessels</td>\n",
       "      <td>0.311446</td>\n",
       "      <td>0.111871</td>\n",
       "      <td>-0.196135</td>\n",
       "      <td>0.095791</td>\n",
       "      <td>0.108281</td>\n",
       "      <td>0.143268</td>\n",
       "      <td>-0.083748</td>\n",
       "      <td>-0.240663</td>\n",
       "      <td>0.122456</td>\n",
       "      <td>0.238114</td>\n",
       "      <td>-0.095610</td>\n",
       "      <td>1.000000</td>\n",
       "      <td>0.162214</td>\n",
       "      <td>-0.411488</td>\n",
       "    </tr>\n",
       "    <tr>\n",
       "      <td>thalassemia</td>\n",
       "      <td>0.063071</td>\n",
       "      <td>0.219555</td>\n",
       "      <td>-0.166632</td>\n",
       "      <td>0.065576</td>\n",
       "      <td>0.078979</td>\n",
       "      <td>-0.032006</td>\n",
       "      <td>-0.005249</td>\n",
       "      <td>-0.104800</td>\n",
       "      <td>0.208098</td>\n",
       "      <td>0.207847</td>\n",
       "      <td>-0.102409</td>\n",
       "      <td>0.162214</td>\n",
       "      <td>1.000000</td>\n",
       "      <td>-0.350416</td>\n",
       "    </tr>\n",
       "    <tr>\n",
       "      <td>target</td>\n",
       "      <td>-0.222864</td>\n",
       "      <td>-0.278841</td>\n",
       "      <td>0.428426</td>\n",
       "      <td>-0.146603</td>\n",
       "      <td>-0.108109</td>\n",
       "      <td>-0.027174</td>\n",
       "      <td>0.142079</td>\n",
       "      <td>0.415911</td>\n",
       "      <td>-0.438189</td>\n",
       "      <td>-0.432360</td>\n",
       "      <td>0.345208</td>\n",
       "      <td>-0.411488</td>\n",
       "      <td>-0.350416</td>\n",
       "      <td>1.000000</td>\n",
       "    </tr>\n",
       "  </tbody>\n",
       "</table>\n",
       "</div>"
      ],
      "text/plain": [
       "                              age       sex  chest_pain_type  \\\n",
       "age                      1.000000 -0.092328        -0.064049   \n",
       "sex                     -0.092328  1.000000        -0.045082   \n",
       "chest_pain_type         -0.064049 -0.045082         1.000000   \n",
       "resting_blood_pressure   0.293137 -0.061159         0.047848   \n",
       "cholesterol              0.193253 -0.177535        -0.100540   \n",
       "fasting_blood_sugar      0.124255  0.045153         0.096475   \n",
       "rest_ecg                -0.112185 -0.067750         0.047987   \n",
       "max_heart_rate_achieved -0.391784 -0.037397         0.287891   \n",
       "exercise_induced_angina  0.100514  0.142488        -0.394647   \n",
       "st_depression            0.205393  0.101217        -0.148931   \n",
       "st_slope                -0.159382 -0.034873         0.117537   \n",
       "num_major_vessels        0.311446  0.111871        -0.196135   \n",
       "thalassemia              0.063071  0.219555        -0.166632   \n",
       "target                  -0.222864 -0.278841         0.428426   \n",
       "\n",
       "                         resting_blood_pressure  cholesterol  \\\n",
       "age                                    0.293137     0.193253   \n",
       "sex                                   -0.061159    -0.177535   \n",
       "chest_pain_type                        0.047848    -0.100540   \n",
       "resting_blood_pressure                 1.000000     0.154576   \n",
       "cholesterol                            0.154576     1.000000   \n",
       "fasting_blood_sugar                    0.176376     0.021125   \n",
       "rest_ecg                              -0.117149    -0.135842   \n",
       "max_heart_rate_achieved               -0.055411    -0.017993   \n",
       "exercise_induced_angina                0.065032     0.083521   \n",
       "st_depression                          0.196546     0.043070   \n",
       "st_slope                              -0.126794     0.014189   \n",
       "num_major_vessels                      0.095791     0.108281   \n",
       "thalassemia                            0.065576     0.078979   \n",
       "target                                -0.146603    -0.108109   \n",
       "\n",
       "                         fasting_blood_sugar  rest_ecg  \\\n",
       "age                                 0.124255 -0.112185   \n",
       "sex                                 0.045153 -0.067750   \n",
       "chest_pain_type                     0.096475  0.047987   \n",
       "resting_blood_pressure              0.176376 -0.117149   \n",
       "cholesterol                         0.021125 -0.135842   \n",
       "fasting_blood_sugar                 1.000000 -0.083522   \n",
       "rest_ecg                           -0.083522  1.000000   \n",
       "max_heart_rate_achieved            -0.011565  0.054233   \n",
       "exercise_induced_angina             0.022831 -0.069363   \n",
       "st_depression                       0.005137 -0.054731   \n",
       "st_slope                           -0.060575  0.090584   \n",
       "num_major_vessels                   0.143268 -0.083748   \n",
       "thalassemia                        -0.032006 -0.005249   \n",
       "target                             -0.027174  0.142079   \n",
       "\n",
       "                         max_heart_rate_achieved  exercise_induced_angina  \\\n",
       "age                                    -0.391784                 0.100514   \n",
       "sex                                    -0.037397                 0.142488   \n",
       "chest_pain_type                         0.287891                -0.394647   \n",
       "resting_blood_pressure                 -0.055411                 0.065032   \n",
       "cholesterol                            -0.017993                 0.083521   \n",
       "fasting_blood_sugar                    -0.011565                 0.022831   \n",
       "rest_ecg                                0.054233                -0.069363   \n",
       "max_heart_rate_achieved                 1.000000                -0.392889   \n",
       "exercise_induced_angina                -0.392889                 1.000000   \n",
       "st_depression                          -0.350528                 0.288378   \n",
       "st_slope                                0.386655                -0.259897   \n",
       "num_major_vessels                      -0.240663                 0.122456   \n",
       "thalassemia                            -0.104800                 0.208098   \n",
       "target                                  0.415911                -0.438189   \n",
       "\n",
       "                         st_depression  st_slope  num_major_vessels  \\\n",
       "age                           0.205393 -0.159382           0.311446   \n",
       "sex                           0.101217 -0.034873           0.111871   \n",
       "chest_pain_type              -0.148931  0.117537          -0.196135   \n",
       "resting_blood_pressure        0.196546 -0.126794           0.095791   \n",
       "cholesterol                   0.043070  0.014189           0.108281   \n",
       "fasting_blood_sugar           0.005137 -0.060575           0.143268   \n",
       "rest_ecg                     -0.054731  0.090584          -0.083748   \n",
       "max_heart_rate_achieved      -0.350528  0.386655          -0.240663   \n",
       "exercise_induced_angina       0.288378 -0.259897           0.122456   \n",
       "st_depression                 1.000000 -0.576384           0.238114   \n",
       "st_slope                     -0.576384  1.000000          -0.095610   \n",
       "num_major_vessels             0.238114 -0.095610           1.000000   \n",
       "thalassemia                   0.207847 -0.102409           0.162214   \n",
       "target                       -0.432360  0.345208          -0.411488   \n",
       "\n",
       "                         thalassemia    target  \n",
       "age                         0.063071 -0.222864  \n",
       "sex                         0.219555 -0.278841  \n",
       "chest_pain_type            -0.166632  0.428426  \n",
       "resting_blood_pressure      0.065576 -0.146603  \n",
       "cholesterol                 0.078979 -0.108109  \n",
       "fasting_blood_sugar        -0.032006 -0.027174  \n",
       "rest_ecg                   -0.005249  0.142079  \n",
       "max_heart_rate_achieved    -0.104800  0.415911  \n",
       "exercise_induced_angina     0.208098 -0.438189  \n",
       "st_depression               0.207847 -0.432360  \n",
       "st_slope                   -0.102409  0.345208  \n",
       "num_major_vessels           0.162214 -0.411488  \n",
       "thalassemia                 1.000000 -0.350416  \n",
       "target                     -0.350416  1.000000  "
      ]
     },
     "execution_count": 41,
     "metadata": {},
     "output_type": "execute_result"
    }
   ],
   "source": [
    "#Find pairwise correlation of all columns in the dataframe\n",
    "df.corr()"
   ]
  },
  {
   "cell_type": "markdown",
   "metadata": {},
   "source": [
    "Five features have correlations with the target of **at least +/-0.4:** chest pain type, maximum heart rate achieved, exercise induced angina, ST depression induced by exercise relative to rest, and number of major vessels (0-3) colored by flourosopy. The attribute with the strongest correlation to the target is exercise induced angina (-0.438). There is also a negative correlation of -0.576 between the slope of the peak exercise ST segment and ST depression induced by exercise relative to rest."
   ]
  },
  {
   "cell_type": "code",
   "execution_count": 13,
   "metadata": {},
   "outputs": [
    {
     "data": {
      "text/plain": [
       "<matplotlib.axes._subplots.AxesSubplot at 0x1a1ff366d0>"
      ]
     },
     "execution_count": 13,
     "metadata": {},
     "output_type": "execute_result"
    },
    {
     "data": {
      "image/png": "[encoded data removed]",
      "text/plain": [
       "<Figure size 432x288 with 2 Axes>"
      ]
     },
     "metadata": {
      "needs_background": "light"
     },
     "output_type": "display_data"
    }
   ],
   "source": [
    "#Display pairwise correlations as a heatmap\n",
    "correlations = df.corr()\n",
    "sns.heatmap(correlations)"
   ]
  },
  {
   "cell_type": "code",
   "execution_count": 42,
   "metadata": {},
   "outputs": [
    {
     "data": {
      "text/plain": [
       "<matplotlib.axes._subplots.AxesSubplot at 0x1a1fc44c90>"
      ]
     },
     "execution_count": 42,
     "metadata": {},
     "output_type": "execute_result"
    },
    {
     "data": {
      "image/png": "[encoded data removed]",
      "text/plain": [
       "<Figure size 432x288 with 2 Axes>"
      ]
     },
     "metadata": {
      "needs_background": "light"
     },
     "output_type": "display_data"
    }
   ],
   "source": [
    "#Display pairwise correlations in a heatmap with a new color palette to illustrate positive vs. negative correlations\n",
    "sns.heatmap(correlations,cmap=plt.cm.RdYlBu_r)"
   ]
  },
  {
   "cell_type": "markdown",
   "metadata": {},
   "source": [
    "## Check for missing values "
   ]
  },
  {
   "cell_type": "code",
   "execution_count": 16,
   "metadata": {},
   "outputs": [
    {
     "data": {
      "text/plain": [
       "age                        0\n",
       "sex                        0\n",
       "chest_pain_type            0\n",
       "resting_blood_pressure     0\n",
       "cholesterol                0\n",
       "fasting_blood_sugar        0\n",
       "rest_ecg                   0\n",
       "max_heart_rate_achieved    0\n",
       "exercise_induced_angina    0\n",
       "st_depression              0\n",
       "st_slope                   0\n",
       "num_major_vessels          0\n",
       "thalassemia                0\n",
       "target                     0\n",
       "dtype: int64"
      ]
     },
     "execution_count": 16,
     "metadata": {},
     "output_type": "execute_result"
    }
   ],
   "source": [
    "#Check for missing values\n",
    "df.isnull().sum()"
   ]
  },
  {
   "cell_type": "markdown",
   "metadata": {},
   "source": [
    "Since we have no missing values in this dataset, we will not need to use imputation or estimation to replace missing values."
   ]
  },
  {
   "cell_type": "markdown",
   "metadata": {},
   "source": [
    "## Identify and drop duplicate rows"
   ]
  },
  {
   "cell_type": "code",
   "execution_count": 17,
   "metadata": {},
   "outputs": [
    {
     "data": {
      "text/plain": [
       "True"
      ]
     },
     "execution_count": 17,
     "metadata": {},
     "output_type": "execute_result"
    }
   ],
   "source": [
    "#Check for duplicate values\n",
    "df.duplicated().any()"
   ]
  },
  {
   "cell_type": "code",
   "execution_count": 18,
   "metadata": {},
   "outputs": [
    {
     "name": "stdout",
     "output_type": "stream",
     "text": [
      "     age  sex  chest_pain_type  resting_blood_pressure  cholesterol  \\\n",
      "164   38    1                2                     138          175   \n",
      "\n",
      "     fasting_blood_sugar  rest_ecg  max_heart_rate_achieved  \\\n",
      "164                    0         1                      173   \n",
      "\n",
      "     exercise_induced_angina  st_depression  st_slope  num_major_vessels  \\\n",
      "164                        0            0.0         2                  4   \n",
      "\n",
      "     thalassemia  target  \n",
      "164            2       1  \n"
     ]
    }
   ],
   "source": [
    "#Identify duplicate values\n",
    "duplicateRowsDF = df[df.duplicated()]\n",
    "print(duplicateRowsDF)\n",
    "\n",
    "#There is one pair of duplicate rows in the dataset."
   ]
  },
  {
   "cell_type": "code",
   "execution_count": 19,
   "metadata": {},
   "outputs": [
    {
     "data": {
      "text/plain": [
       "(303, 14)"
      ]
     },
     "execution_count": 19,
     "metadata": {},
     "output_type": "execute_result"
    }
   ],
   "source": [
    "#Old Shape\n",
    "df.shape"
   ]
  },
  {
   "cell_type": "code",
   "execution_count": 20,
   "metadata": {},
   "outputs": [],
   "source": [
    "#Drop one of the duplicates, keeping the first\n",
    "df.drop_duplicates(keep='first',inplace=True) "
   ]
  },
  {
   "cell_type": "code",
   "execution_count": 21,
   "metadata": {},
   "outputs": [
    {
     "data": {
      "text/plain": [
       "(302, 14)"
      ]
     },
     "execution_count": 21,
     "metadata": {},
     "output_type": "execute_result"
    }
   ],
   "source": [
    "#New shape\n",
    "df.shape"
   ]
  },
  {
   "cell_type": "markdown",
   "metadata": {},
   "source": [
    "## Check for outliers"
   ]
  },
  {
   "cell_type": "code",
   "execution_count": 22,
   "metadata": {},
   "outputs": [
    {
     "data": {
      "image/png": "[encoded data removed]",
      "text/plain": [
       "<Figure size 432x288 with 1 Axes>"
      ]
     },
     "metadata": {
      "needs_background": "light"
     },
     "output_type": "display_data"
    }
   ],
   "source": [
    "#Distribution of age\n",
    "sns.boxplot(df['age'])\n",
    "plt.show()"
   ]
  },
  {
   "cell_type": "markdown",
   "metadata": {},
   "source": [
    "There do not appear to be any outliers in the age distribution."
   ]
  },
  {
   "cell_type": "code",
   "execution_count": 23,
   "metadata": {},
   "outputs": [
    {
     "data": {
      "image/png": "[encoded data removed]",
      "text/plain": [
       "<Figure size 432x288 with 1 Axes>"
      ]
     },
     "metadata": {
      "needs_background": "light"
     },
     "output_type": "display_data"
    }
   ],
   "source": [
    "#Distribution of resting blood pressure\n",
    "sns.boxplot(df['resting_blood_pressure'])\n",
    "plt.show()"
   ]
  },
  {
   "cell_type": "markdown",
   "metadata": {},
   "source": [
    "Resting blood pressure has several datapoints above the maximum on the boxplot (Q3 + 1.5*IQR), but it's unclear how big of an impact they will have on a potential prediction model. Since there are several of them and they are all within the fairly narrow range of 170-202 mm Hg, they will stay in the dataset for now."
   ]
  },
  {
   "cell_type": "code",
   "execution_count": 24,
   "metadata": {},
   "outputs": [
    {
     "data": {
      "image/png": "[encoded data removed]",
      "text/plain": [
       "<Figure size 432x288 with 1 Axes>"
      ]
     },
     "metadata": {
      "needs_background": "light"
     },
     "output_type": "display_data"
    }
   ],
   "source": [
    "#Distribution of cholesterol\n",
    "sns.boxplot(df['cholesterol'])\n",
    "plt.show()"
   ]
  },
  {
   "cell_type": "markdown",
   "metadata": {},
   "source": [
    "Cholesteral has one data point (564) that is significantly above the maximum on the boxplot (Q3 + 1.5 * IQR). Since cholesterol readings above 240 mg/dL are considered \"very high\" and many standard cholesterol tests have scales that stop at 350 mg/dL, we can be fairly confident that the high data point of 564 is an error. We will drop this row from the dataset."
   ]
  },
  {
   "cell_type": "code",
   "execution_count": 25,
   "metadata": {},
   "outputs": [
    {
     "data": {
      "text/plain": [
       "(301, 14)"
      ]
     },
     "execution_count": 25,
     "metadata": {},
     "output_type": "execute_result"
    }
   ],
   "source": [
    "#Remove outlier\n",
    "indexNames = df[df['cholesterol'] == 564 ].index\n",
    "df.drop(indexNames, inplace=True)\n",
    "df.shape"
   ]
  },
  {
   "cell_type": "code",
   "execution_count": 26,
   "metadata": {},
   "outputs": [
    {
     "data": {
      "image/png": "[encoded data removed]",
      "text/plain": [
       "<Figure size 432x288 with 1 Axes>"
      ]
     },
     "metadata": {
      "needs_background": "light"
     },
     "output_type": "display_data"
    }
   ],
   "source": [
    "#New cholesterol boxplot\n",
    "sns.boxplot(df['cholesterol'])\n",
    "plt.show()"
   ]
  },
  {
   "cell_type": "markdown",
   "metadata": {},
   "source": [
    "There are still a few high data points around 400 mg/dL, but since there are multiple values in that range after removing the outlier from the data, we will keep them in the dataset."
   ]
  },
  {
   "cell_type": "code",
   "execution_count": 27,
   "metadata": {
    "scrolled": true
   },
   "outputs": [
    {
     "data": {
      "image/png": "[encoded data removed]",
      "text/plain": [
       "<Figure size 432x288 with 1 Axes>"
      ]
     },
     "metadata": {
      "needs_background": "light"
     },
     "output_type": "display_data"
    }
   ],
   "source": [
    "#Distribution of max heart rate achieved\n",
    "sns.boxplot(df['max_heart_rate_achieved'])\n",
    "plt.show()"
   ]
  },
  {
   "cell_type": "markdown",
   "metadata": {},
   "source": [
    "Max heart rate achieved has one low outlier with a max heart rate of 71. Target maximum heart rates are calculated by subtracting your age from 220, so you would have to be 149 years old to have a target maximum heart rate of 71 bpm. Let's assume that this was an error and drop the outlier from the dataset."
   ]
  },
  {
   "cell_type": "code",
   "execution_count": 28,
   "metadata": {},
   "outputs": [
    {
     "data": {
      "text/plain": [
       "(300, 14)"
      ]
     },
     "execution_count": 28,
     "metadata": {},
     "output_type": "execute_result"
    }
   ],
   "source": [
    "#Remove outlier\n",
    "indexNames = df[df['max_heart_rate_achieved'] == 71].index\n",
    "df.drop(indexNames, inplace=True)\n",
    "df.shape"
   ]
  },
  {
   "cell_type": "code",
   "execution_count": 29,
   "metadata": {},
   "outputs": [
    {
     "data": {
      "image/png": "[encoded data removed]",
      "text/plain": [
       "<Figure size 432x288 with 1 Axes>"
      ]
     },
     "metadata": {
      "needs_background": "light"
     },
     "output_type": "display_data"
    }
   ],
   "source": [
    "#New boxplot for max heart rate achieved\n",
    "sns.boxplot(df['max_heart_rate_achieved'])\n",
    "plt.show()"
   ]
  },
  {
   "cell_type": "markdown",
   "metadata": {},
   "source": [
    "## Relationship of features to target"
   ]
  },
  {
   "cell_type": "markdown",
   "metadata": {},
   "source": [
    "Since we discovered that the top 5 most strongly correlated features to target are chest pain type, maximum heart rate achieved, exercise induced angina, ST depression induced by exercise relative to rest, and number of major vessels (0-3) colored by flourosopy, let's examine the relationships between those features and the target in more detail.\n",
    "\n"
   ]
  },
  {
   "cell_type": "markdown",
   "metadata": {},
   "source": [
    "#### Chest Pain Type"
   ]
  },
  {
   "cell_type": "code",
   "execution_count": 46,
   "metadata": {},
   "outputs": [
    {
     "data": {
      "text/plain": [
       "<matplotlib.axes._subplots.AxesSubplot at 0x1a20a9cad0>"
      ]
     },
     "execution_count": 46,
     "metadata": {},
     "output_type": "execute_result"
    },
    {
     "data": {
      "image/png": "[encoded data removed]",
      "text/plain": [
       "<Figure size 432x288 with 1 Axes>"
      ]
     },
     "metadata": {
      "needs_background": "light"
     },
     "output_type": "display_data"
    }
   ],
   "source": [
    "#Chest Pain (0 = typical angina; 1 = atypical angina; 2 = non-anginal pain; 3 = asymptomatic)\n",
    "#Target (0 = has heart disease; 1 = no heart disease)\n",
    "sns.countplot(x=\"chest_pain_type\", hue=\"target\", data=df)"
   ]
  },
  {
   "cell_type": "markdown",
   "metadata": {},
   "source": [
    "People in the dataset presenting with typical angina (0 in the dataset) have a much higher proportion of heart disease than those presenting with other types of chest pain. "
   ]
  },
  {
   "cell_type": "code",
   "execution_count": 56,
   "metadata": {},
   "outputs": [
    {
     "data": {
      "text/html": [
       "<div>\n",
       "<style scoped>\n",
       "    .dataframe tbody tr th:only-of-type {\n",
       "        vertical-align: middle;\n",
       "    }\n",
       "\n",
       "    .dataframe tbody tr th {\n",
       "        vertical-align: top;\n",
       "    }\n",
       "\n",
       "    .dataframe thead th {\n",
       "        text-align: right;\n",
       "    }\n",
       "</style>\n",
       "<table border=\"1\" class=\"dataframe\">\n",
       "  <thead>\n",
       "    <tr style=\"text-align: right;\">\n",
       "      <th></th>\n",
       "      <th></th>\n",
       "      <th>target</th>\n",
       "    </tr>\n",
       "    <tr>\n",
       "      <th>chest_pain_type</th>\n",
       "      <th>target</th>\n",
       "      <th></th>\n",
       "    </tr>\n",
       "  </thead>\n",
       "  <tbody>\n",
       "    <tr>\n",
       "      <td rowspan=\"2\" valign=\"top\">0</td>\n",
       "      <td>0</td>\n",
       "      <td>103</td>\n",
       "    </tr>\n",
       "    <tr>\n",
       "      <td>1</td>\n",
       "      <td>39</td>\n",
       "    </tr>\n",
       "    <tr>\n",
       "      <td rowspan=\"2\" valign=\"top\">1</td>\n",
       "      <td>0</td>\n",
       "      <td>9</td>\n",
       "    </tr>\n",
       "    <tr>\n",
       "      <td>1</td>\n",
       "      <td>41</td>\n",
       "    </tr>\n",
       "    <tr>\n",
       "      <td rowspan=\"2\" valign=\"top\">2</td>\n",
       "      <td>0</td>\n",
       "      <td>18</td>\n",
       "    </tr>\n",
       "    <tr>\n",
       "      <td>1</td>\n",
       "      <td>67</td>\n",
       "    </tr>\n",
       "    <tr>\n",
       "      <td rowspan=\"2\" valign=\"top\">3</td>\n",
       "      <td>0</td>\n",
       "      <td>7</td>\n",
       "    </tr>\n",
       "    <tr>\n",
       "      <td>1</td>\n",
       "      <td>16</td>\n",
       "    </tr>\n",
       "  </tbody>\n",
       "</table>\n",
       "</div>"
      ],
      "text/plain": [
       "                        target\n",
       "chest_pain_type target        \n",
       "0               0          103\n",
       "                1           39\n",
       "1               0            9\n",
       "                1           41\n",
       "2               0           18\n",
       "                1           67\n",
       "3               0            7\n",
       "                1           16"
      ]
     },
     "execution_count": 56,
     "metadata": {},
     "output_type": "execute_result"
    }
   ],
   "source": [
    "#What proportion of subjects with typical angina have heart disease?\n",
    "df.groupby(['chest_pain_type', 'target']).agg({'target': 'count'})"
   ]
  },
  {
   "cell_type": "markdown",
   "metadata": {},
   "source": [
    "Of subjets with typical angina, 72.5% (103 of 142) have heart disease. "
   ]
  },
  {
   "cell_type": "markdown",
   "metadata": {},
   "source": [
    "#### Maximum Heart Rate Achieved"
   ]
  },
  {
   "cell_type": "markdown",
   "metadata": {},
   "source": [
    "Age has a moderately strong negative correlation with maximum heart rate (-0.392). Let's plot the relationship between age and max heart rate."
   ]
  },
  {
   "cell_type": "code",
   "execution_count": 34,
   "metadata": {},
   "outputs": [
    {
     "data": {
      "image/png": "[encoded data removed]",
      "text/plain": [
       "<Figure size 432x288 with 1 Axes>"
      ]
     },
     "metadata": {
      "needs_background": "light"
     },
     "output_type": "display_data"
    }
   ],
   "source": [
    "plt.scatter(x=df.age[df.target==1], y=df.max_heart_rate_achieved[(df.target==1)], c=\"red\")\n",
    "plt.scatter(x=df.age[df.target==0], y=df.max_heart_rate_achieved[(df.target==0)])\n",
    "plt.legend([\"Heart Disease\", \"No Heart Disease\"])\n",
    "plt.xlabel(\"Age\")\n",
    "plt.ylabel(\"Maximum Heart Rate\")\n",
    "plt.show()"
   ]
  },
  {
   "cell_type": "markdown",
   "metadata": {},
   "source": [
    "#### Exercise-Induced Angina"
   ]
  },
  {
   "cell_type": "code",
   "execution_count": 32,
   "metadata": {},
   "outputs": [
    {
     "data": {
      "text/plain": [
       "<matplotlib.axes._subplots.AxesSubplot at 0x1a2079e650>"
      ]
     },
     "execution_count": 32,
     "metadata": {},
     "output_type": "execute_result"
    },
    {
     "data": {
      "image/png": "[encoded data removed]",
      "text/plain": [
       "<Figure size 432x288 with 1 Axes>"
      ]
     },
     "metadata": {
      "needs_background": "light"
     },
     "output_type": "display_data"
    }
   ],
   "source": [
    "#Exercise-Induced Angina vs. Target\n",
    "#Exang (0 = no; 1 = yes)\n",
    "#Target (0 = has heart disease; 1 = no heart disease)\n",
    "sns.countplot(x=\"exercise_induced_angina\", hue=\"target\", data=df)"
   ]
  },
  {
   "cell_type": "code",
   "execution_count": 33,
   "metadata": {},
   "outputs": [
    {
     "data": {
      "text/plain": [
       "target  exercise_induced_angina\n",
       "0       1                           76\n",
       "        0                           61\n",
       "1       0                          140\n",
       "        1                           23\n",
       "Name: exercise_induced_angina, dtype: int64"
      ]
     },
     "execution_count": 33,
     "metadata": {},
     "output_type": "execute_result"
    }
   ],
   "source": [
    "df.groupby('target')['exercise_induced_angina'].value_counts()"
   ]
  },
  {
   "cell_type": "markdown",
   "metadata": {},
   "source": [
    "Subjects with exercise-induced angina (chest pain during exercise) are disproportionately likely to have heart disease. Of the 99 subjects with exercise-induced angina, 76 (76.8%) have heart disease."
   ]
  },
  {
   "cell_type": "markdown",
   "metadata": {},
   "source": [
    "#### ST Depression"
   ]
  },
  {
   "cell_type": "markdown",
   "metadata": {},
   "source": [
    "ST depression (induced by exercise relative to rest) is discovered during an electrocardiogram and indicates a restriction in blood supply to the heart. It makes sense that patients with heart disease would have higher measurements of ST segment depression, so let's look at boxplots comparing ST depression for the target groups."
   ]
  },
  {
   "cell_type": "code",
   "execution_count": 58,
   "metadata": {},
   "outputs": [
    {
     "data": {
      "image/png": "[encoded data removed]",
      "text/plain": [
       "<Figure size 432x288 with 1 Axes>"
      ]
     },
     "metadata": {
      "needs_background": "light"
     },
     "output_type": "display_data"
    }
   ],
   "source": [
    "#ST Depression\n",
    "#Target (0 = has heart disease; 1 = no heart disease)\n",
    "ax = sns.boxplot(x=\"target\", y=\"st_depression\", data=df)"
   ]
  },
  {
   "cell_type": "markdown",
   "metadata": {},
   "source": [
    "As expected, patients with heart disease have higher levels of ST segment depression."
   ]
  },
  {
   "cell_type": "code",
   "execution_count": 59,
   "metadata": {},
   "outputs": [
    {
     "data": {
      "text/plain": [
       "target\n",
       "0    1.589781\n",
       "1    0.580368\n",
       "Name: st_depression, dtype: float64"
      ]
     },
     "execution_count": 59,
     "metadata": {},
     "output_type": "execute_result"
    }
   ],
   "source": [
    "#Compare mean ST depression for patients with and without heart disease\n",
    "df.groupby('target')['st_depression'].mean()"
   ]
  },
  {
   "cell_type": "markdown",
   "metadata": {},
   "source": [
    "Patients with heart disease have a mean ST segment depression of 1.59 compared to 0.58 for patients without heart disease."
   ]
  },
  {
   "cell_type": "markdown",
   "metadata": {},
   "source": [
    "#### Number of Major Vessels Colored by Flouroscopy"
   ]
  },
  {
   "cell_type": "code",
   "execution_count": 60,
   "metadata": {},
   "outputs": [
    {
     "data": {
      "text/plain": [
       "<matplotlib.axes._subplots.AxesSubplot at 0x1a205bcf90>"
      ]
     },
     "execution_count": 60,
     "metadata": {},
     "output_type": "execute_result"
    },
    {
     "data": {
      "image/png": "[encoded data removed]",
      "text/plain": [
       "<Figure size 432x288 with 1 Axes>"
      ]
     },
     "metadata": {
      "needs_background": "light"
     },
     "output_type": "display_data"
    }
   ],
   "source": [
    "sns.countplot(x=\"num_major_vessels\", hue=\"target\", data=df)"
   ]
  },
  {
   "cell_type": "markdown",
   "metadata": {},
   "source": [
    "## Feature Engineering "
   ]
  },
  {
   "cell_type": "markdown",
   "metadata": {},
   "source": [
    "We will use one-hot encoding to create dummy variables for categorical variables like sex and fasting blood sugar in order to prepare to build our model."
   ]
  },
  {
   "cell_type": "code",
   "execution_count": 38,
   "metadata": {},
   "outputs": [
    {
     "data": {
      "text/html": [
       "<div>\n",
       "<style scoped>\n",
       "    .dataframe tbody tr th:only-of-type {\n",
       "        vertical-align: middle;\n",
       "    }\n",
       "\n",
       "    .dataframe tbody tr th {\n",
       "        vertical-align: top;\n",
       "    }\n",
       "\n",
       "    .dataframe thead th {\n",
       "        text-align: right;\n",
       "    }\n",
       "</style>\n",
       "<table border=\"1\" class=\"dataframe\">\n",
       "  <thead>\n",
       "    <tr style=\"text-align: right;\">\n",
       "      <th></th>\n",
       "      <th>age</th>\n",
       "      <th>sex</th>\n",
       "      <th>chest_pain_type</th>\n",
       "      <th>resting_blood_pressure</th>\n",
       "      <th>cholesterol</th>\n",
       "      <th>fasting_blood_sugar</th>\n",
       "      <th>rest_ecg</th>\n",
       "      <th>max_heart_rate_achieved</th>\n",
       "      <th>exercise_induced_angina</th>\n",
       "      <th>st_depression</th>\n",
       "      <th>st_slope</th>\n",
       "      <th>num_major_vessels</th>\n",
       "      <th>thalassemia</th>\n",
       "      <th>target</th>\n",
       "    </tr>\n",
       "  </thead>\n",
       "  <tbody>\n",
       "    <tr>\n",
       "      <td>0</td>\n",
       "      <td>63</td>\n",
       "      <td>1</td>\n",
       "      <td>3</td>\n",
       "      <td>145</td>\n",
       "      <td>233</td>\n",
       "      <td>1</td>\n",
       "      <td>0</td>\n",
       "      <td>150</td>\n",
       "      <td>0</td>\n",
       "      <td>2.3</td>\n",
       "      <td>0</td>\n",
       "      <td>0</td>\n",
       "      <td>1</td>\n",
       "      <td>1</td>\n",
       "    </tr>\n",
       "    <tr>\n",
       "      <td>1</td>\n",
       "      <td>37</td>\n",
       "      <td>1</td>\n",
       "      <td>2</td>\n",
       "      <td>130</td>\n",
       "      <td>250</td>\n",
       "      <td>0</td>\n",
       "      <td>1</td>\n",
       "      <td>187</td>\n",
       "      <td>0</td>\n",
       "      <td>3.5</td>\n",
       "      <td>0</td>\n",
       "      <td>0</td>\n",
       "      <td>2</td>\n",
       "      <td>1</td>\n",
       "    </tr>\n",
       "    <tr>\n",
       "      <td>2</td>\n",
       "      <td>41</td>\n",
       "      <td>0</td>\n",
       "      <td>1</td>\n",
       "      <td>130</td>\n",
       "      <td>204</td>\n",
       "      <td>0</td>\n",
       "      <td>0</td>\n",
       "      <td>172</td>\n",
       "      <td>0</td>\n",
       "      <td>1.4</td>\n",
       "      <td>2</td>\n",
       "      <td>0</td>\n",
       "      <td>2</td>\n",
       "      <td>1</td>\n",
       "    </tr>\n",
       "    <tr>\n",
       "      <td>3</td>\n",
       "      <td>56</td>\n",
       "      <td>1</td>\n",
       "      <td>1</td>\n",
       "      <td>120</td>\n",
       "      <td>236</td>\n",
       "      <td>0</td>\n",
       "      <td>1</td>\n",
       "      <td>178</td>\n",
       "      <td>0</td>\n",
       "      <td>0.8</td>\n",
       "      <td>2</td>\n",
       "      <td>0</td>\n",
       "      <td>2</td>\n",
       "      <td>1</td>\n",
       "    </tr>\n",
       "    <tr>\n",
       "      <td>4</td>\n",
       "      <td>57</td>\n",
       "      <td>0</td>\n",
       "      <td>0</td>\n",
       "      <td>120</td>\n",
       "      <td>354</td>\n",
       "      <td>0</td>\n",
       "      <td>1</td>\n",
       "      <td>163</td>\n",
       "      <td>1</td>\n",
       "      <td>0.6</td>\n",
       "      <td>2</td>\n",
       "      <td>0</td>\n",
       "      <td>2</td>\n",
       "      <td>1</td>\n",
       "    </tr>\n",
       "  </tbody>\n",
       "</table>\n",
       "</div>"
      ],
      "text/plain": [
       "   age  sex  chest_pain_type  resting_blood_pressure  cholesterol  \\\n",
       "0   63    1                3                     145          233   \n",
       "1   37    1                2                     130          250   \n",
       "2   41    0                1                     130          204   \n",
       "3   56    1                1                     120          236   \n",
       "4   57    0                0                     120          354   \n",
       "\n",
       "   fasting_blood_sugar  rest_ecg  max_heart_rate_achieved  \\\n",
       "0                    1         0                      150   \n",
       "1                    0         1                      187   \n",
       "2                    0         0                      172   \n",
       "3                    0         1                      178   \n",
       "4                    0         1                      163   \n",
       "\n",
       "   exercise_induced_angina  st_depression  st_slope  num_major_vessels  \\\n",
       "0                        0            2.3         0                  0   \n",
       "1                        0            3.5         0                  0   \n",
       "2                        0            1.4         2                  0   \n",
       "3                        0            0.8         2                  0   \n",
       "4                        1            0.6         2                  0   \n",
       "\n",
       "   thalassemia  target  \n",
       "0            1       1  \n",
       "1            2       1  \n",
       "2            2       1  \n",
       "3            2       1  \n",
       "4            2       1  "
      ]
     },
     "execution_count": 38,
     "metadata": {},
     "output_type": "execute_result"
    }
   ],
   "source": [
    "#Create dummy variables for categorical variables\n",
    "df = pd.get_dummies(df, drop_first=True)\n",
    "df.head(5)"
   ]
  },
  {
   "cell_type": "markdown",
   "metadata": {},
   "source": [
    "Since the numerical variables have very different ranges, we'll need to normalize them before building our model."
   ]
  },
  {
   "cell_type": "code",
   "execution_count": 39,
   "metadata": {},
   "outputs": [],
   "source": [
    "#Normalize numerical variables to fall in a scale from 0 to 1\n",
    "saved_columns = df.columns\n",
    "scaler = preprocessing.MinMaxScaler(feature_range=(0, 1), copy=True)\n",
    "scaler.fit(df)\n",
    "normData = pd.DataFrame(scaler.transform(df), index=df.index, columns=saved_columns)"
   ]
  },
  {
   "cell_type": "code",
   "execution_count": 40,
   "metadata": {},
   "outputs": [
    {
     "data": {
      "text/html": [
       "<div>\n",
       "<style scoped>\n",
       "    .dataframe tbody tr th:only-of-type {\n",
       "        vertical-align: middle;\n",
       "    }\n",
       "\n",
       "    .dataframe tbody tr th {\n",
       "        vertical-align: top;\n",
       "    }\n",
       "\n",
       "    .dataframe thead th {\n",
       "        text-align: right;\n",
       "    }\n",
       "</style>\n",
       "<table border=\"1\" class=\"dataframe\">\n",
       "  <thead>\n",
       "    <tr style=\"text-align: right;\">\n",
       "      <th></th>\n",
       "      <th>age</th>\n",
       "      <th>sex</th>\n",
       "      <th>chest_pain_type</th>\n",
       "      <th>resting_blood_pressure</th>\n",
       "      <th>cholesterol</th>\n",
       "      <th>fasting_blood_sugar</th>\n",
       "      <th>rest_ecg</th>\n",
       "      <th>max_heart_rate_achieved</th>\n",
       "      <th>exercise_induced_angina</th>\n",
       "      <th>st_depression</th>\n",
       "      <th>st_slope</th>\n",
       "      <th>num_major_vessels</th>\n",
       "      <th>thalassemia</th>\n",
       "      <th>target</th>\n",
       "    </tr>\n",
       "  </thead>\n",
       "  <tbody>\n",
       "    <tr>\n",
       "      <td>0</td>\n",
       "      <td>0.708333</td>\n",
       "      <td>1.0</td>\n",
       "      <td>1.000000</td>\n",
       "      <td>0.481132</td>\n",
       "      <td>0.367698</td>\n",
       "      <td>1.0</td>\n",
       "      <td>0.0</td>\n",
       "      <td>0.543860</td>\n",
       "      <td>0.0</td>\n",
       "      <td>0.370968</td>\n",
       "      <td>0.0</td>\n",
       "      <td>0.0</td>\n",
       "      <td>0.333333</td>\n",
       "      <td>1.0</td>\n",
       "    </tr>\n",
       "    <tr>\n",
       "      <td>1</td>\n",
       "      <td>0.166667</td>\n",
       "      <td>1.0</td>\n",
       "      <td>0.666667</td>\n",
       "      <td>0.339623</td>\n",
       "      <td>0.426117</td>\n",
       "      <td>0.0</td>\n",
       "      <td>0.5</td>\n",
       "      <td>0.868421</td>\n",
       "      <td>0.0</td>\n",
       "      <td>0.564516</td>\n",
       "      <td>0.0</td>\n",
       "      <td>0.0</td>\n",
       "      <td>0.666667</td>\n",
       "      <td>1.0</td>\n",
       "    </tr>\n",
       "    <tr>\n",
       "      <td>2</td>\n",
       "      <td>0.250000</td>\n",
       "      <td>0.0</td>\n",
       "      <td>0.333333</td>\n",
       "      <td>0.339623</td>\n",
       "      <td>0.268041</td>\n",
       "      <td>0.0</td>\n",
       "      <td>0.0</td>\n",
       "      <td>0.736842</td>\n",
       "      <td>0.0</td>\n",
       "      <td>0.225806</td>\n",
       "      <td>1.0</td>\n",
       "      <td>0.0</td>\n",
       "      <td>0.666667</td>\n",
       "      <td>1.0</td>\n",
       "    </tr>\n",
       "    <tr>\n",
       "      <td>3</td>\n",
       "      <td>0.562500</td>\n",
       "      <td>1.0</td>\n",
       "      <td>0.333333</td>\n",
       "      <td>0.245283</td>\n",
       "      <td>0.378007</td>\n",
       "      <td>0.0</td>\n",
       "      <td>0.5</td>\n",
       "      <td>0.789474</td>\n",
       "      <td>0.0</td>\n",
       "      <td>0.129032</td>\n",
       "      <td>1.0</td>\n",
       "      <td>0.0</td>\n",
       "      <td>0.666667</td>\n",
       "      <td>1.0</td>\n",
       "    </tr>\n",
       "    <tr>\n",
       "      <td>4</td>\n",
       "      <td>0.583333</td>\n",
       "      <td>0.0</td>\n",
       "      <td>0.000000</td>\n",
       "      <td>0.245283</td>\n",
       "      <td>0.783505</td>\n",
       "      <td>0.0</td>\n",
       "      <td>0.5</td>\n",
       "      <td>0.657895</td>\n",
       "      <td>1.0</td>\n",
       "      <td>0.096774</td>\n",
       "      <td>1.0</td>\n",
       "      <td>0.0</td>\n",
       "      <td>0.666667</td>\n",
       "      <td>1.0</td>\n",
       "    </tr>\n",
       "    <tr>\n",
       "      <td>5</td>\n",
       "      <td>0.583333</td>\n",
       "      <td>1.0</td>\n",
       "      <td>0.000000</td>\n",
       "      <td>0.433962</td>\n",
       "      <td>0.226804</td>\n",
       "      <td>0.0</td>\n",
       "      <td>0.5</td>\n",
       "      <td>0.526316</td>\n",
       "      <td>0.0</td>\n",
       "      <td>0.064516</td>\n",
       "      <td>0.5</td>\n",
       "      <td>0.0</td>\n",
       "      <td>0.333333</td>\n",
       "      <td>1.0</td>\n",
       "    </tr>\n",
       "    <tr>\n",
       "      <td>6</td>\n",
       "      <td>0.562500</td>\n",
       "      <td>0.0</td>\n",
       "      <td>0.333333</td>\n",
       "      <td>0.433962</td>\n",
       "      <td>0.577320</td>\n",
       "      <td>0.0</td>\n",
       "      <td>0.0</td>\n",
       "      <td>0.570175</td>\n",
       "      <td>0.0</td>\n",
       "      <td>0.209677</td>\n",
       "      <td>0.5</td>\n",
       "      <td>0.0</td>\n",
       "      <td>0.666667</td>\n",
       "      <td>1.0</td>\n",
       "    </tr>\n",
       "    <tr>\n",
       "      <td>7</td>\n",
       "      <td>0.312500</td>\n",
       "      <td>1.0</td>\n",
       "      <td>0.333333</td>\n",
       "      <td>0.245283</td>\n",
       "      <td>0.470790</td>\n",
       "      <td>0.0</td>\n",
       "      <td>0.5</td>\n",
       "      <td>0.745614</td>\n",
       "      <td>0.0</td>\n",
       "      <td>0.000000</td>\n",
       "      <td>1.0</td>\n",
       "      <td>0.0</td>\n",
       "      <td>1.000000</td>\n",
       "      <td>1.0</td>\n",
       "    </tr>\n",
       "    <tr>\n",
       "      <td>8</td>\n",
       "      <td>0.479167</td>\n",
       "      <td>1.0</td>\n",
       "      <td>0.666667</td>\n",
       "      <td>0.735849</td>\n",
       "      <td>0.250859</td>\n",
       "      <td>1.0</td>\n",
       "      <td>0.5</td>\n",
       "      <td>0.649123</td>\n",
       "      <td>0.0</td>\n",
       "      <td>0.080645</td>\n",
       "      <td>1.0</td>\n",
       "      <td>0.0</td>\n",
       "      <td>1.000000</td>\n",
       "      <td>1.0</td>\n",
       "    </tr>\n",
       "    <tr>\n",
       "      <td>9</td>\n",
       "      <td>0.583333</td>\n",
       "      <td>1.0</td>\n",
       "      <td>0.666667</td>\n",
       "      <td>0.528302</td>\n",
       "      <td>0.144330</td>\n",
       "      <td>0.0</td>\n",
       "      <td>0.5</td>\n",
       "      <td>0.754386</td>\n",
       "      <td>0.0</td>\n",
       "      <td>0.258065</td>\n",
       "      <td>1.0</td>\n",
       "      <td>0.0</td>\n",
       "      <td>0.666667</td>\n",
       "      <td>1.0</td>\n",
       "    </tr>\n",
       "  </tbody>\n",
       "</table>\n",
       "</div>"
      ],
      "text/plain": [
       "        age  sex  chest_pain_type  resting_blood_pressure  cholesterol  \\\n",
       "0  0.708333  1.0         1.000000                0.481132     0.367698   \n",
       "1  0.166667  1.0         0.666667                0.339623     0.426117   \n",
       "2  0.250000  0.0         0.333333                0.339623     0.268041   \n",
       "3  0.562500  1.0         0.333333                0.245283     0.378007   \n",
       "4  0.583333  0.0         0.000000                0.245283     0.783505   \n",
       "5  0.583333  1.0         0.000000                0.433962     0.226804   \n",
       "6  0.562500  0.0         0.333333                0.433962     0.577320   \n",
       "7  0.312500  1.0         0.333333                0.245283     0.470790   \n",
       "8  0.479167  1.0         0.666667                0.735849     0.250859   \n",
       "9  0.583333  1.0         0.666667                0.528302     0.144330   \n",
       "\n",
       "   fasting_blood_sugar  rest_ecg  max_heart_rate_achieved  \\\n",
       "0                  1.0       0.0                 0.543860   \n",
       "1                  0.0       0.5                 0.868421   \n",
       "2                  0.0       0.0                 0.736842   \n",
       "3                  0.0       0.5                 0.789474   \n",
       "4                  0.0       0.5                 0.657895   \n",
       "5                  0.0       0.5                 0.526316   \n",
       "6                  0.0       0.0                 0.570175   \n",
       "7                  0.0       0.5                 0.745614   \n",
       "8                  1.0       0.5                 0.649123   \n",
       "9                  0.0       0.5                 0.754386   \n",
       "\n",
       "   exercise_induced_angina  st_depression  st_slope  num_major_vessels  \\\n",
       "0                      0.0       0.370968       0.0                0.0   \n",
       "1                      0.0       0.564516       0.0                0.0   \n",
       "2                      0.0       0.225806       1.0                0.0   \n",
       "3                      0.0       0.129032       1.0                0.0   \n",
       "4                      1.0       0.096774       1.0                0.0   \n",
       "5                      0.0       0.064516       0.5                0.0   \n",
       "6                      0.0       0.209677       0.5                0.0   \n",
       "7                      0.0       0.000000       1.0                0.0   \n",
       "8                      0.0       0.080645       1.0                0.0   \n",
       "9                      0.0       0.258065       1.0                0.0   \n",
       "\n",
       "   thalassemia  target  \n",
       "0     0.333333     1.0  \n",
       "1     0.666667     1.0  \n",
       "2     0.666667     1.0  \n",
       "3     0.666667     1.0  \n",
       "4     0.666667     1.0  \n",
       "5     0.333333     1.0  \n",
       "6     0.666667     1.0  \n",
       "7     1.000000     1.0  \n",
       "8     1.000000     1.0  \n",
       "9     0.666667     1.0  "
      ]
     },
     "execution_count": 40,
     "metadata": {},
     "output_type": "execute_result"
    }
   ],
   "source": [
    "normData.head(10)"
   ]
  },
  {
   "cell_type": "markdown",
   "metadata": {},
   "source": [
    "Our dataset is now ready for Part II: Modeling!"
   ]
  }
 ],
 "metadata": {
  "kernelspec": {
   "display_name": "Python 3",
   "language": "python",
   "name": "python3"
  },
  "language_info": {
   "codemirror_mode": {
    "name": "ipython",
    "version": 3
   },
   "file_extension": ".py",
   "mimetype": "text/x-python",
   "name": "python",
   "nbconvert_exporter": "python",
   "pygments_lexer": "ipython3",
   "version": "3.7.4"
  }
 },
 "nbformat": 4,
 "nbformat_minor": 2
}
